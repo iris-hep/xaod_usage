{
 "cells": [
  {
   "cell_type": "markdown",
   "metadata": {},
   "source": [
    "# Old Collection Access Pattern\n",
    "\n",
    "The non-typed way of accessing xAOD collections is supported for now, but is depreciated, and eventually, will stop working. There isn't a lot different from the typed method. However, much less of the xAOD is defined, so watch out for holes."
   ]
  },
  {
   "cell_type": "code",
   "execution_count": 1,
   "metadata": {},
   "outputs": [],
   "source": [
    "from config import ds_zee_untyped\n",
    "\n",
    "import matplotlib.pyplot as plt"
   ]
  },
  {
   "cell_type": "code",
   "execution_count": 2,
   "metadata": {},
   "outputs": [
    {
     "data": {
      "application/vnd.jupyter.widget-view+json": {
       "model_id": "31a6686ca3b145beb75609a061aac06c",
       "version_major": 2,
       "version_minor": 0
      },
      "text/plain": [
       "rucio://mc16_13TeV:m...:   0%|          | 0/9000000000.0 [00:00]"
      ]
     },
     "metadata": {},
     "output_type": "display_data"
    },
    {
     "data": {
      "application/vnd.jupyter.widget-view+json": {
       "model_id": "78e7b79b2ad14216b29f76927726f58f",
       "version_major": 2,
       "version_minor": 0
      },
      "text/plain": [
       "        rucio://mc16_13TeV:m... Downloaded:   0%|          | 0/9000000000.0 [00:00]"
      ]
     },
     "metadata": {},
     "output_type": "display_data"
    },
    {
     "data": {
      "application/vnd.jupyter.widget-view+json": {
       "model_id": "a5803250557445049acac5dc677d025b",
       "version_major": 2,
       "version_minor": 0
      },
      "text/plain": [
       "rucio://mc16_13TeV:m...:   0%|          | 0/9000000000.0 [00:00]"
      ]
     },
     "metadata": {},
     "output_type": "display_data"
    },
    {
     "data": {
      "application/vnd.jupyter.widget-view+json": {
       "model_id": "77d132162fcc41809571dd4e06869a08",
       "version_major": 2,
       "version_minor": 0
      },
      "text/plain": [
       "        rucio://mc16_13TeV:m... Downloaded:   0%|          | 0/9000000000.0 [00:00]"
      ]
     },
     "metadata": {},
     "output_type": "display_data"
    }
   ],
   "source": [
    "jets = (ds_zee_untyped\n",
    "          .SelectMany(lambda e: (e.Jets(\"AntiKt4EMTopoJets\")))\n",
    "          .Where(lambda j: (j.pt()/1000)>30)\n",
    "          .Select(lambda j: (j.pt()/1000.0))\n",
    "          .AsPandasDF(\"JetPt\")\n",
    "          .value())"
   ]
  },
  {
   "cell_type": "markdown",
   "metadata": {},
   "source": [
    "There are several things to note. First, you'll see two warning messages if you are running in local mode:\n",
    "\n",
    "```text\n",
    "Warning: assuming that the method 'xAOD::Jet::pt(...)' has return type 'double'. Use cpp_types.add_method_type_info to suppress (or correct) this warning.\n",
    "Warning: assuming that the method 'xAOD::Jet::pt(...)' has return type 'double'. Use cpp_types.add_method_type_info to suppress (or correct) this warning.\n",
    "```\n",
    " Those indicate that the backend wasn't sent type information and so made the assumption that jet `pt` was a double return type. In this case, a good guess.\n",
    "\n",
    "A few other things:\n",
    "\n",
    "* No corrections were applied. These are the raw data from the xAOD file. This is a DAOD_PHYS file, so that won't be correct.\n",
    "* Only a limited number of collections are known (Jets, Muons, Electrons, Tracks)."
   ]
  },
  {
   "cell_type": "code",
   "execution_count": 3,
   "metadata": {},
   "outputs": [
    {
     "data": {
      "image/png": "[encoded data removed]",
      "text/plain": [
       "<Figure size 432x288 with 1 Axes>"
      ]
     },
     "metadata": {
      "needs_background": "light"
     },
     "output_type": "display_data"
    }
   ],
   "source": [
    "plt.hist(jets.JetPt, bins=100, range=(0, 100))\n",
    "plt.xlabel('Jet $p_T$ [GeV]')\n",
    "plt.ylabel('Number of jets')\n",
    "_ = plt.title('Jet $p_T$ distribution for Zee events')"
   ]
  }
 ],
 "metadata": {
  "interpreter": {
   "hash": "4a6a03da167f696356f4586f5aa11d01c71f7eb41b718dba3877a6890ca8074b"
  },
  "kernelspec": {
   "display_name": "Python 3.9.6 ('xaod-usage-w68Kx7k0-py3.9')",
   "language": "python",
   "name": "python3"
  },
  "language_info": {
   "codemirror_mode": {
    "name": "ipython",
    "version": 3
   },
   "file_extension": ".py",
   "mimetype": "text/x-python",
   "name": "python",
   "nbconvert_exporter": "python",
   "pygments_lexer": "ipython3",
   "version": "3.9.6"
  },
  "widgets": {
   "application/vnd.jupyter.widget-state+json": {
    "state": {},
    "version_major": 2,
    "version_minor": 0
   }
  }
 },
 "nbformat": 4,
 "nbformat_minor": 4
}
