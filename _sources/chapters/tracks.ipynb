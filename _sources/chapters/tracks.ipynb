{
 "cells": [
  {
   "cell_type": "markdown",
   "metadata": {},
   "source": [
    "# The Track Collection\n",
    "\n",
    "This is the first collection of objects in the xAOD event model that does not require any CP calibration code to be executed before accessing it.\n",
    "Tracks in ATLAS are straight forward - you apply the cuts on your own (or they are done by a derivation). As a result, tracks are simple objects.\n",
    "\n",
    "Note that tracks are hefty objects - and as a result they are often targets of slimming and thinning. The latter is especially problematic as a method on the `Track` object will fail with an AUX error - because the data backing it is not actually present in the file."
   ]
  },
  {
   "cell_type": "code",
   "execution_count": 2,
   "metadata": {},
   "outputs": [],
   "source": [
    "from config import get_data\n",
    "from config import sx_f\n",
    "from func_adl_servicex_xaodr22 import FuncADLQueryPHYSLITE\n",
    "\n",
    "import matplotlib.pyplot as plt\n",
    "import awkward as ak"
   ]
  },
  {
   "cell_type": "markdown",
   "metadata": {},
   "source": [
    "Fetch all the inner detector tracks and plot their $p_T$ and the radius of the first hit on the tracks. Note that unlike the calibrated objects, you must supply the name of the track collection to the `TrackParticles` call. There is no default."
   ]
  },
  {
   "cell_type": "code",
   "execution_count": 3,
   "metadata": {},
   "outputs": [
    {
     "name": "stdout",
     "output_type": "stream",
     "text": [
      "\u001b[?25l"
     ]
    },
    {
     "name": "stdout",
     "output_type": "stream",
     "text": [
      "\u001b[2K\n",
      "\u001b[?25h"
     ]
    }
   ],
   "source": [
    "query = FuncADLQueryPHYSLITE()\n",
    "tracks_per_event = (query\n",
    "                    .Select(lambda e: e.TrackParticles(\"InDetTrackParticles\"))\n",
    "                    .Select(lambda track: {\n",
    "                            'pt': track.Select(lambda t: t.pt() / 1000),\n",
    "                        })\n",
    "                    )\n",
    "\n",
    "track_data = get_data(tracks_per_event,sx_f)"
   ]
  },
  {
   "cell_type": "code",
   "execution_count": 6,
   "metadata": {},
   "outputs": [
    {
     "data": {
      "image/png": "[encoded data removed]",
      "text/plain": [
       "<Figure size 640x480 with 1 Axes>"
      ]
     },
     "metadata": {},
     "output_type": "display_data"
    }
   ],
   "source": [
    "plt.hist(ak.flatten(track_data.pt), bins=100, range=(0, 10))\n",
    "plt.xlabel('Track $p_T$ [GeV]')\n",
    "plt.ylabel('Number of tracks')\n",
    "_ = plt.title('Track $p_T$ distribution for $Z\\\\rightarrow ee$ events')"
   ]
  },
  {
   "cell_type": "markdown",
   "metadata": {},
   "source": [
    "## The Datamodel\n",
    "\n",
    "The data model when this documentation was last built was:"
   ]
  },
  {
   "cell_type": "code",
   "execution_count": 6,
   "metadata": {},
   "outputs": [
    {
     "name": "stdout",
     "output_type": "stream",
     "text": [
      "Help on class TrackParticle_v1 in module func_adl_servicex_xaodr22.xAOD.trackparticle_v1:\n",
      "\n",
      "class TrackParticle_v1(builtins.object)\n",
      " |  A class\n",
      " |  \n",
      " |  Methods defined here:\n",
      " |  \n",
      " |  beamlineTiltX(self) -> 'float'\n",
      " |      A method\n",
      " |  \n",
      " |  beamlineTiltY(self) -> 'float'\n",
      " |      A method\n",
      " |  \n",
      " |  charge(self) -> 'float'\n",
      " |      A method\n",
      " |  \n",
      " |  chiSquared(self) -> 'float'\n",
      " |      A method\n",
      " |  \n",
      " |  clearDecorations(self) -> 'bool'\n",
      " |      A method\n",
      " |  \n",
      " |  d0(self) -> 'float'\n",
      " |      A method\n",
      " |  \n",
      " |  definingParametersCovMatrixDiagVec(self) -> 'func_adl_servicex_xaodr22.vector_float_.vector_float_'\n",
      " |      A method\n",
      " |  \n",
      " |  definingParametersCovMatrixOffDiagCompr(self) -> 'bool'\n",
      " |      A method\n",
      " |  \n",
      " |  definingParametersCovMatrixOffDiagVec(self) -> 'func_adl_servicex_xaodr22.vector_float_.vector_float_'\n",
      " |      A method\n",
      " |  \n",
      " |  definingParametersCovMatrixVec(self) -> 'func_adl_servicex_xaodr22.vector_float_.vector_float_'\n",
      " |      A method\n",
      " |  \n",
      " |  e(self) -> 'float'\n",
      " |      A method\n",
      " |  \n",
      " |  eta(self) -> 'float'\n",
      " |      A method\n",
      " |  \n",
      " |  hasNonConstStore(self) -> 'bool'\n",
      " |      A method\n",
      " |  \n",
      " |  hasStore(self) -> 'bool'\n",
      " |      A method\n",
      " |  \n",
      " |  hasValidTime(self) -> 'bool'\n",
      " |      A method\n",
      " |  \n",
      " |  hitPattern(self) -> 'int'\n",
      " |      A method\n",
      " |  \n",
      " |  index(self) -> 'int'\n",
      " |      A method\n",
      " |  \n",
      " |  m(self) -> 'float'\n",
      " |      A method\n",
      " |  \n",
      " |  numberDoF(self) -> 'float'\n",
      " |      A method\n",
      " |  \n",
      " |  numberOfParameters(self) -> 'int'\n",
      " |      A method\n",
      " |  \n",
      " |  p4(self) -> 'func_adl_servicex_xaodr22.tlorentzvector.TLorentzVector'\n",
      " |      A method\n",
      " |  \n",
      " |  parameterPX(self, index: 'int') -> 'float'\n",
      " |      A method\n",
      " |  \n",
      " |  parameterPY(self, index: 'int') -> 'float'\n",
      " |      A method\n",
      " |  \n",
      " |  parameterPZ(self, index: 'int') -> 'float'\n",
      " |      A method\n",
      " |  \n",
      " |  parameterX(self, index: 'int') -> 'float'\n",
      " |      A method\n",
      " |  \n",
      " |  parameterY(self, index: 'int') -> 'float'\n",
      " |      A method\n",
      " |  \n",
      " |  parameterZ(self, index: 'int') -> 'float'\n",
      " |      A method\n",
      " |  \n",
      " |  phi(self) -> 'float'\n",
      " |      A method\n",
      " |  \n",
      " |  phi0(self) -> 'float'\n",
      " |      A method\n",
      " |  \n",
      " |  pt(self) -> 'float'\n",
      " |      A method\n",
      " |  \n",
      " |  qOverP(self) -> 'float'\n",
      " |      A method\n",
      " |  \n",
      " |  radiusOfFirstHit(self) -> 'float'\n",
      " |      A method\n",
      " |  \n",
      " |  rapidity(self) -> 'float'\n",
      " |      A method\n",
      " |  \n",
      " |  theta(self) -> 'float'\n",
      " |      A method\n",
      " |  \n",
      " |  time(self) -> 'float'\n",
      " |      A method\n",
      " |  \n",
      " |  trackIndices(self) -> 'bool'\n",
      " |      A method\n",
      " |  \n",
      " |  usingPrivateStore(self) -> 'bool'\n",
      " |      A method\n",
      " |  \n",
      " |  usingStandaloneStore(self) -> 'bool'\n",
      " |      A method\n",
      " |  \n",
      " |  vx(self) -> 'float'\n",
      " |      A method\n",
      " |  \n",
      " |  vy(self) -> 'float'\n",
      " |      A method\n",
      " |  \n",
      " |  vz(self) -> 'float'\n",
      " |      A method\n",
      " |  \n",
      " |  z0(self) -> 'float'\n",
      " |      A method\n",
      " |  \n",
      " |  ----------------------------------------------------------------------\n",
      " |  Readonly properties defined here:\n",
      " |  \n",
      " |  auxdataConst\n",
      " |      A method\n",
      " |  \n",
      " |  isAvailable\n",
      " |      A method\n",
      " |  \n",
      " |  ----------------------------------------------------------------------\n",
      " |  Data descriptors defined here:\n",
      " |  \n",
      " |  __dict__\n",
      " |      dictionary for instance variables (if defined)\n",
      " |  \n",
      " |  __weakref__\n",
      " |      list of weak references to the object (if defined)\n",
      " |  \n",
      " |  ----------------------------------------------------------------------\n",
      " |  Data and other attributes defined here:\n",
      " |  \n",
      " |  covMatrixIndex = <enum 'covMatrixIndex'>\n",
      " |      An enumeration.\n",
      "\n"
     ]
    }
   ],
   "source": [
    "from func_adl_servicex_xaodr22.xAOD.trackparticle_v1 import TrackParticle_v1\n",
    "help(TrackParticle_v1)"
   ]
  },
  {
   "cell_type": "markdown",
   "metadata": {},
   "source": [
    "## Further Information\n",
    "\n",
    "* The [`xAOD::TrackParticle_v1` C++ header file](https://gitlab.cern.ch/atlas/athena/-/blob/21.2/Event/xAOD/xAODTracking/xAODTracking/versions/TrackParticle_v1.h) with all the inline documentation.\n",
    "* The [Tracking CP group R21 recommendation pages](https://twiki.cern.ch/twiki/bin/view/AtlasProtected/TrackingCPRecsEarly2018#Track_Selection) on the ATLAS TWiki"
   ]
  },
  {
   "cell_type": "markdown",
   "metadata": {},
   "source": []
  }
 ],
 "metadata": {
  "kernelspec": {
   "display_name": "Python 3",
   "language": "python",
   "name": "python3"
  },
  "language_info": {
   "codemirror_mode": {
    "name": "ipython",
    "version": 3
   },
   "file_extension": ".py",
   "mimetype": "text/x-python",
   "name": "python",
   "nbconvert_exporter": "python",
   "pygments_lexer": "ipython3",
   "version": "3.9.21"
  },
  "orig_nbformat": 4
 },
 "nbformat": 4,
 "nbformat_minor": 2
}
