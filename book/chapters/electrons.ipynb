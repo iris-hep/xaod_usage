{
 "cells": [
  {
   "cell_type": "markdown",
   "metadata": {},
   "source": [
    "# The Electron Collection\n",
    "```{warning}\n",
    "The examples on this page have not been updated to use r22 and ServiceX 3 yet. \n",
    "```\n",
    "The electron collection is a lot like the jet collection other than there are working points (loose, medium, tight) that are defined by the Egamma working group.\n",
    "\n",
    "Accessing the collection is similar, at first blush, to the jet collection."
   ]
  },
  {
   "cell_type": "code",
   "execution_count": 1,
   "metadata": {},
   "outputs": [],
   "source": [
    "import matplotlib.pyplot as plt\n",
    "from config import ds_zee as ds\n",
    "from helpers import match_objects\n",
    "import awkward as ak\n",
    "import asyncio\n",
    "from func_adl_servicex_xaodr21 import calib_tools"
   ]
  },
  {
   "cell_type": "markdown",
   "metadata": {},
   "source": [
    "The default electron we fetch is the so-called `MediumLHElectron` electron with `NonIso` isolation."
   ]
  },
  {
   "cell_type": "code",
   "execution_count": 2,
   "metadata": {},
   "outputs": [
    {
     "data": {
      "application/vnd.jupyter.widget-view+json": {
       "model_id": "4a706406c71044ecb0274835848253a4",
       "version_major": 2,
       "version_minor": 0
      },
      "text/plain": [
       "rucio://mc16_13TeV:m...:   0%|          | 0/9000000000.0 [00:00]"
      ]
     },
     "metadata": {},
     "output_type": "display_data"
    },
    {
     "data": {
      "application/vnd.jupyter.widget-view+json": {
       "model_id": "9d0bfdd09b1f449e9866e8043f6dffd8",
       "version_major": 2,
       "version_minor": 0
      },
      "text/plain": [
       "        rucio://mc16_13TeV:m... Downloaded:   0%|          | 0/9000000000.0 [00:00]"
      ]
     },
     "metadata": {},
     "output_type": "display_data"
    }
   ],
   "source": [
    "electrons = (ds\n",
    "            .Select(lambda e: e.Electrons())\n",
    "            .Select(lambda eles: {\n",
    "                 'pt': [e.pt() / 1000.0 for e in eles],\n",
    "                 'eta': [e.eta() for e in eles],\n",
    "                 'phi': [e.phi() for e in eles],\n",
    "                 })\n",
    "            .AsAwkwardArray()\n",
    "            .value())"
   ]
  },
  {
   "cell_type": "code",
   "execution_count": 3,
   "metadata": {},
   "outputs": [
    {
     "data": {
      "image/png": "[encoded data removed]",
      "text/plain": [
       "<Figure size 432x288 with 1 Axes>"
      ]
     },
     "metadata": {
      "needs_background": "light"
     },
     "output_type": "display_data"
    }
   ],
   "source": [
    "plt.hist(ak.flatten(electrons.pt), bins=100, range=(0, 100))\n",
    "plt.xlabel('Electron $p_T$ [GeV]')\n",
    "plt.ylabel('Number of electrons')\n",
    "_ = plt.title('Electron $p_T$ distribution for $Z\\\\rightarrow ee$ events')"
   ]
  },
  {
   "cell_type": "markdown",
   "metadata": {},
   "source": [
    "(sec-ele-wp)=\n",
    "## Electron Types\n",
    "\n",
    "Electrons come in several different flavors. We can look at the different $\\eta$ distributions for the electrons. Isolation is another axis we can alter, not shown here, by changing the `electron_isolation` argument to `Electrons`.\n",
    "\n",
    "In the [calibration](ch-calibration) chapter we pointed out we can't run multiple queries with different object setups due to limitations in the xAOD AnalysisBase when looking at calibrated objects. So we'll have to do this in three queries instead. Also, we'll have them run in parallel to improve efficiency a bit."
   ]
  },
  {
   "cell_type": "code",
   "execution_count": 4,
   "metadata": {},
   "outputs": [
    {
     "data": {
      "application/vnd.jupyter.widget-view+json": {
       "model_id": "79929fcef043492bb16269d1c354d429",
       "version_major": 2,
       "version_minor": 0
      },
      "text/plain": [
       "rucio://mc16_13TeV:m...:   0%|          | 0/9000000000.0 [00:00]"
      ]
     },
     "metadata": {},
     "output_type": "display_data"
    },
    {
     "data": {
      "application/vnd.jupyter.widget-view+json": {
       "model_id": "e904561d32c24062952420a59b532628",
       "version_major": 2,
       "version_minor": 0
      },
      "text/plain": [
       "        rucio://mc16_13TeV:m... Downloaded:   0%|          | 0/9000000000.0 [00:00]"
      ]
     },
     "metadata": {},
     "output_type": "display_data"
    },
    {
     "data": {
      "application/vnd.jupyter.widget-view+json": {
       "model_id": "13356aec6c91429780258d4b7f5204f2",
       "version_major": 2,
       "version_minor": 0
      },
      "text/plain": [
       "rucio://mc16_13TeV:m...:   0%|          | 0/9000000000.0 [00:00]"
      ]
     },
     "metadata": {},
     "output_type": "display_data"
    },
    {
     "data": {
      "application/vnd.jupyter.widget-view+json": {
       "model_id": "e75026fba5a64468a6aa2f7da84af648",
       "version_major": 2,
       "version_minor": 0
      },
      "text/plain": [
       "        rucio://mc16_13TeV:m... Downloaded:   0%|          | 0/9000000000.0 [00:00]"
      ]
     },
     "metadata": {},
     "output_type": "display_data"
    },
    {
     "data": {
      "application/vnd.jupyter.widget-view+json": {
       "model_id": "b0fdbe0cbc6d405282f388fd29e67532",
       "version_major": 2,
       "version_minor": 0
      },
      "text/plain": [
       "rucio://mc16_13TeV:m...:   0%|          | 0/9000000000.0 [00:00]"
      ]
     },
     "metadata": {},
     "output_type": "display_data"
    },
    {
     "data": {
      "application/vnd.jupyter.widget-view+json": {
       "model_id": "2cb38fd098904b3da8a710ab3adc7627",
       "version_major": 2,
       "version_minor": 0
      },
      "text/plain": [
       "        rucio://mc16_13TeV:m... Downloaded:   0%|          | 0/9000000000.0 [00:00]"
      ]
     },
     "metadata": {},
     "output_type": "display_data"
    }
   ],
   "source": [
    "ele_working_points = ['LooseLHElectron', 'MediumLHElectron','TightLHElectron']\n",
    "electrons_async = [\n",
    "    (calib_tools.query_update(ds, electron_working_point=wp)\n",
    "        .SelectMany(lambda e: [ele.eta() for ele in e.Electrons()])\n",
    "        .AsAwkwardArray('eta')\n",
    "        .value_async())\n",
    "    for wp in ele_working_points\n",
    "]\n",
    "electrons_wp = await asyncio.gather(*electrons_async)"
   ]
  },
  {
   "cell_type": "code",
   "execution_count": 5,
   "metadata": {},
   "outputs": [
    {
     "data": {
      "image/png": "[encoded data removed]",
      "text/plain": [
       "<Figure size 432x288 with 1 Axes>"
      ]
     },
     "metadata": {
      "needs_background": "light"
     },
     "output_type": "display_data"
    }
   ],
   "source": [
    "for idx, wp in enumerate(ele_working_points):\n",
    "    plt.hist(electrons_wp[idx].eta, bins=50, range=(-3, 3), label=wp)\n",
    "plt.xlabel('Electron $\\\\eta$')\n",
    "plt.ylabel('Number of electrons')\n",
    "plt.title('Electron type $\\\\eta$ distribution for $Z\\\\rightarrow ee$ events')\n",
    "_ = plt.legend()"
   ]
  },
  {
   "cell_type": "markdown",
   "metadata": {},
   "source": [
    "## Calibration\n",
    "\n",
    "By default the muons we pulled are `MediumLHElectron` quality and calibrated. We can grab the uncalibrated electrons easily enough:"
   ]
  },
  {
   "cell_type": "markdown",
   "metadata": {},
   "source": [
    "To grab the raw jets (without calibration) we just set the `calibrated` parameter to `False` (there is very little reason one will do this normally):"
   ]
  },
  {
   "cell_type": "code",
   "execution_count": 6,
   "metadata": {},
   "outputs": [
    {
     "data": {
      "application/vnd.jupyter.widget-view+json": {
       "model_id": "04278240f9a14be79b0d48ea05643998",
       "version_major": 2,
       "version_minor": 0
      },
      "text/plain": [
       "rucio://mc16_13TeV:m...:   0%|          | 0/9000000000.0 [00:00]"
      ]
     },
     "metadata": {},
     "output_type": "display_data"
    },
    {
     "data": {
      "application/vnd.jupyter.widget-view+json": {
       "model_id": "25b0cecce26945bf84b5991ce9239760",
       "version_major": 2,
       "version_minor": 0
      },
      "text/plain": [
       "        rucio://mc16_13TeV:m... Downloaded:   0%|          | 0/9000000000.0 [00:00]"
      ]
     },
     "metadata": {},
     "output_type": "display_data"
    },
    {
     "data": {
      "application/vnd.jupyter.widget-view+json": {
       "model_id": "c2c1e7ec30934d45a8e790e8790d4f5f",
       "version_major": 2,
       "version_minor": 0
      },
      "text/plain": [
       "rucio://mc16_13TeV:m...:   0%|          | 0/9000000000.0 [00:00]"
      ]
     },
     "metadata": {},
     "output_type": "display_data"
    },
    {
     "data": {
      "application/vnd.jupyter.widget-view+json": {
       "model_id": "8c8070b9a0584cc88fb1e9b08a0b596c",
       "version_major": 2,
       "version_minor": 0
      },
      "text/plain": [
       "        rucio://mc16_13TeV:m... Downloaded:   0%|          | 0/9000000000.0 [00:00]"
      ]
     },
     "metadata": {},
     "output_type": "display_data"
    }
   ],
   "source": [
    "raw_electrons = ( ds\n",
    "                 .Select(lambda e: e.Electrons(uncalibrated_collection=\"Electrons\"))\n",
    "                 .Select(lambda eles: {\n",
    "                      'pt': [e.pt() / 1000.0 for e in eles],\n",
    "                      'eta': [e.eta() for e in eles],\n",
    "                      'phi': [e.phi() for e in eles],\n",
    "                      })\n",
    "                 .AsAwkwardArray()\n",
    "                 .value())"
   ]
  },
  {
   "cell_type": "markdown",
   "metadata": {},
   "source": [
    "The number of raw jets and the number of calibrated jets are quite different from the number of raw jets, so we'll need to match them in $\\eta$ and $\\phi$:"
   ]
  },
  {
   "cell_type": "code",
   "execution_count": 7,
   "metadata": {},
   "outputs": [],
   "source": [
    "raw_electrons_matched = match_objects(electrons, raw_electrons)"
   ]
  },
  {
   "cell_type": "markdown",
   "metadata": {},
   "source": [
    "And we can compared the matched electrons:"
   ]
  },
  {
   "cell_type": "code",
   "execution_count": 8,
   "metadata": {},
   "outputs": [
    {
     "data": {
      "image/png": "[encoded data removed]",
      "text/plain": [
       "<Figure size 432x288 with 1 Axes>"
      ]
     },
     "metadata": {
      "needs_background": "light"
     },
     "output_type": "display_data"
    }
   ],
   "source": [
    "plt.hist(ak.flatten(electrons.pt-raw_electrons_matched.pt), bins=50, range=(-0.5, 0.5))\n",
    "plt.xlabel(r'$\\Delta p_T$ for calibrated electrons matched to their raw electrons [GeV]')\n",
    "plt.ylabel('Number of electrons')\n",
    "_ = plt.title('The effect of electron calibration on muon $p_T$ in $Z\\\\rightarrow ee$ events')"
   ]
  },
  {
   "cell_type": "markdown",
   "metadata": {},
   "source": [
    "If we instead want a particular systematic error, we need only name that error to get it back. Knowing what the names of the systematic errors, however, is not something that can be programmatically determined ahead of time. See the further information section at the end of this chapter to links to the ATLAS electron calibration info twiki. Though I've noticed it is not necessarily up to date with names."
   ]
  },
  {
   "cell_type": "code",
   "execution_count": 9,
   "metadata": {},
   "outputs": [
    {
     "data": {
      "application/vnd.jupyter.widget-view+json": {
       "model_id": "a1d09cf96d95474ea69b9bc8f8e28be4",
       "version_major": 2,
       "version_minor": 0
      },
      "text/plain": [
       "rucio://mc16_13TeV:m...:   0%|          | 0/9000000000.0 [00:00]"
      ]
     },
     "metadata": {},
     "output_type": "display_data"
    },
    {
     "data": {
      "application/vnd.jupyter.widget-view+json": {
       "model_id": "7cec1b77e99b43efb0a55ff4aff31ab2",
       "version_major": 2,
       "version_minor": 0
      },
      "text/plain": [
       "        rucio://mc16_13TeV:m... Downloaded:   0%|          | 0/9000000000.0 [00:00]"
      ]
     },
     "metadata": {},
     "output_type": "display_data"
    },
    {
     "data": {
      "application/vnd.jupyter.widget-view+json": {
       "model_id": "bec6619e49a34317b9dd1935cc1476b9",
       "version_major": 2,
       "version_minor": 0
      },
      "text/plain": [
       "rucio://mc16_13TeV:m...:   0%|          | 0/9000000000.0 [00:00]"
      ]
     },
     "metadata": {},
     "output_type": "display_data"
    },
    {
     "data": {
      "application/vnd.jupyter.widget-view+json": {
       "model_id": "0309e668f40943dfb01133250755ef07",
       "version_major": 2,
       "version_minor": 0
      },
      "text/plain": [
       "        rucio://mc16_13TeV:m... Downloaded:   0%|          | 0/9000000000.0 [00:00]"
      ]
     },
     "metadata": {},
     "output_type": "display_data"
    }
   ],
   "source": [
    "sys_electrons = (calib_tools.query_sys_error(ds, 'EG_RESOLUTION_ALL__1up')\n",
    "                 .Select(lambda e: e.Electrons())\n",
    "                 .Select(lambda eles: {\n",
    "                      'pt': [e.pt() / 1000.0 for e in eles],\n",
    "                      'eta': [e.eta() for e in eles],\n",
    "                      'phi': [e.phi() for e in eles],\n",
    "                      })\n",
    "                 .AsAwkwardArray()\n",
    "                 .value())"
   ]
  },
  {
   "cell_type": "code",
   "execution_count": 10,
   "metadata": {},
   "outputs": [],
   "source": [
    "sys_electrons_match = match_objects(electrons, sys_electrons)"
   ]
  },
  {
   "cell_type": "code",
   "execution_count": 11,
   "metadata": {},
   "outputs": [
    {
     "data": {
      "image/png": "[encoded data removed]",
      "text/plain": [
       "<Figure size 432x288 with 1 Axes>"
      ]
     },
     "metadata": {
      "needs_background": "light"
     },
     "output_type": "display_data"
    }
   ],
   "source": [
    "plt.hist(ak.flatten(electrons.pt-sys_electrons_match.pt), bins=50, range=(-0.5, 0.5))\n",
    "plt.xlabel('$\\Delta p_T$ for calibrated electrons matched to their reco stat muons [GeV]')\n",
    "plt.ylabel('Number of Electrons')\n",
    "_ = plt.title('The effect of a electron calibration sys error on muon $p_T$ in $Z\\\\rightarrow ee$ events')"
   ]
  },
  {
   "cell_type": "markdown",
   "metadata": {},
   "source": [
    "## The Data Model\n",
    "\n",
    "The `Electron_v1` class at the time this documentation was built:"
   ]
  },
  {
   "cell_type": "code",
   "execution_count": 12,
   "metadata": {},
   "outputs": [
    {
     "name": "stdout",
     "output_type": "stream",
     "text": [
      "Help on class Electron_v1 in module func_adl_servicex_xaodr21.xAOD.electron_v1:\n",
      "\n",
      "class Electron_v1(builtins.object)\n",
      " |  A class\n",
      " |  \n",
      " |  Methods defined here:\n",
      " |  \n",
      " |  OQ(self) -> 'int'\n",
      " |      A method\n",
      " |  \n",
      " |  ambiguousObject(self) -> 'func_adl_servicex_xaodr21.xAOD.egamma_v1.Egamma_v1'\n",
      " |      A method\n",
      " |  \n",
      " |  caloCluster(self, index: 'int') -> 'func_adl_servicex_xaodr21.xAOD.calocluster_v1.CaloCluster_v1'\n",
      " |      A method\n",
      " |  \n",
      " |  caloClusterLink(self, index: 'int') -> 'func_adl_servicex_xaodr21.elementlink_datavector_xaod_calocluster_v1__.ElementLink_DataVector_xAOD_CaloCluster_v1__'\n",
      " |      A method\n",
      " |  \n",
      " |  caloClusterLinks(self) -> 'func_adl_servicex_xaodr21.vector_elementlink_datavector_xaod_calocluster_v1___.vector_ElementLink_DataVector_xAOD_CaloCluster_v1___'\n",
      " |      A method\n",
      " |  \n",
      " |  charge(self) -> 'float'\n",
      " |      A method\n",
      " |  \n",
      " |  clearDecorations(self) -> 'bool'\n",
      " |      A method\n",
      " |  \n",
      " |  e(self) -> 'float'\n",
      " |      A method\n",
      " |  \n",
      " |  eta(self) -> 'float'\n",
      " |      A method\n",
      " |  \n",
      " |  hasNonConstStore(self) -> 'bool'\n",
      " |      A method\n",
      " |  \n",
      " |  hasStore(self) -> 'bool'\n",
      " |      A method\n",
      " |  \n",
      " |  index(self) -> 'int'\n",
      " |      A method\n",
      " |  \n",
      " |  isGoodOQ(self, mask: 'int') -> 'bool'\n",
      " |      A method\n",
      " |  \n",
      " |  likelihoodValue(self, value: 'float', LHValue: 'str') -> 'bool'\n",
      " |      A method\n",
      " |  \n",
      " |  m(self) -> 'float'\n",
      " |      A method\n",
      " |  \n",
      " |  nCaloClusters(self) -> 'int'\n",
      " |      A method\n",
      " |  \n",
      " |  nTrackParticles(self) -> 'int'\n",
      " |      A method\n",
      " |  \n",
      " |  p4(self) -> 'func_adl_servicex_xaodr21.tlorentzvector.TLorentzVector'\n",
      " |      A method\n",
      " |  \n",
      " |  phi(self) -> 'float'\n",
      " |      A method\n",
      " |  \n",
      " |  pt(self) -> 'float'\n",
      " |      A method\n",
      " |  \n",
      " |  rapidity(self) -> 'float'\n",
      " |      A method\n",
      " |  \n",
      " |  trackParticle(self, index: 'int') -> 'func_adl_servicex_xaodr21.xAOD.trackparticle_v1.TrackParticle_v1'\n",
      " |      A method\n",
      " |  \n",
      " |  trackParticleLink(self, index: 'int') -> 'func_adl_servicex_xaodr21.elementlink_datavector_xaod_trackparticle_v1__.ElementLink_DataVector_xAOD_TrackParticle_v1__'\n",
      " |      A method\n",
      " |  \n",
      " |  trackParticleLinks(self) -> 'func_adl_servicex_xaodr21.vector_elementlink_datavector_xaod_trackparticle_v1___.vector_ElementLink_DataVector_xAOD_TrackParticle_v1___'\n",
      " |      A method\n",
      " |  \n",
      " |  usingPrivateStore(self) -> 'bool'\n",
      " |      A method\n",
      " |  \n",
      " |  usingStandaloneStore(self) -> 'bool'\n",
      " |      A method\n",
      " |  \n",
      " |  ----------------------------------------------------------------------\n",
      " |  Readonly properties defined here:\n",
      " |  \n",
      " |  auxdataConst\n",
      " |      A method\n",
      " |  \n",
      " |  isAvailable\n",
      " |      A method\n",
      " |  \n",
      " |  ----------------------------------------------------------------------\n",
      " |  Data descriptors defined here:\n",
      " |  \n",
      " |  __dict__\n",
      " |      dictionary for instance variables (if defined)\n",
      " |  \n",
      " |  __weakref__\n",
      " |      list of weak references to the object (if defined)\n",
      "\n"
     ]
    }
   ],
   "source": [
    "from func_adl_servicex_xaodr21.xAOD.electron_v1 import Electron_v1\n",
    "help(Electron_v1)"
   ]
  },
  {
   "cell_type": "markdown",
   "metadata": {},
   "source": [
    "## Further Information\n",
    "\n",
    "* The [`xAOD::Electron_v1` C++ header file](https://gitlab.cern.ch/atlas/athena/-/blob/21.2/Event/xAOD/xAODEgamma/xAODEgamma/versions/Electron_v1.h) with all the inline documentation.\n",
    "* The [Electron Recommendation Pages for R21](https://twiki.cern.ch/twiki/bin/view/AtlasProtected/LatestRecommendationsElectronIDRun2) on the ATLAS TWiki\n",
    "* The [Electron Working Points Pages for R21](https://twiki.cern.ch/twiki/bin/view/AtlasProtected/EGammaIdentificationRun2) on the ATLAS Twiki"
   ]
  }
 ],
 "metadata": {
  "interpreter": {
   "hash": "4a6a03da167f696356f4586f5aa11d01c71f7eb41b718dba3877a6890ca8074b"
  },
  "kernelspec": {
   "display_name": "Python 3.9.6 ('xaod-usage-w68Kx7k0-py3.9')",
   "language": "python",
   "name": "python3"
  },
  "language_info": {
   "codemirror_mode": {
    "name": "ipython",
    "version": 3
   },
   "file_extension": ".py",
   "mimetype": "text/x-python",
   "name": "python",
   "nbconvert_exporter": "python",
   "pygments_lexer": "ipython3",
   "version": "3.9.6"
  },
  "orig_nbformat": 4
 },
 "nbformat": 4,
 "nbformat_minor": 2
}
