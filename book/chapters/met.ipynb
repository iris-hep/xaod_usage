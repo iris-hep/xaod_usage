{
 "cells": [
  {
   "cell_type": "markdown",
   "metadata": {},
   "source": [
    "# Missing $E_T$\n",
    "The missing energy is the last of the calibrated collections we will discuss. And, from a technical point of view, different from the other calibrated objects we've discussed in several respects:\n",
    "\n",
    "* It depends on pretty much all other objects in the event. So if you apply a correction to another object, you are forced to recalculate the Missing $E_T$.\n",
    "* It is stored as a collection of Missing $E_T$ objects. There are a number of different Missing $E_T$ types in a typical `DAOD_PHYS` file. As this was written, one could fine `MET_Truth`, `MET_Track`, `MET_Core_AntiKt4EMTopo`, and `MET_Core_AntiKt4EMPFlow`.\n",
    "* That missing $E_T$ stored in the event is not usable. It is called the _Core_ missing $E_T$. An algorithm must be run to reconstruct the real event missing $E_T$ in order to make this work.\n",
    "\n",
    "Thus, the ServiceX backend must build the missing $E_T$ tools to build a proper missing $E_T$ before use."
   ]
  },
  {
   "cell_type": "code",
   "execution_count": 1,
   "metadata": {},
   "outputs": [],
   "source": [
    "from config import get_data\n",
    "from config import sx_f\n",
    "from func_adl_servicex_xaodr22 import FuncADLQueryPHYSLITE\n",
    "\n",
    "import matplotlib.pyplot as plt"
   ]
  },
  {
   "cell_type": "markdown",
   "metadata": {},
   "source": [
    "To grab the corrected missing $E_T$ value we use the `.First()` `func_adl` predicate as below."
   ]
  },
  {
   "cell_type": "code",
   "execution_count": 12,
   "metadata": {},
   "outputs": [
    {
     "name": "stdout",
     "output_type": "stream",
     "text": [
      "\u001b[2K5l\n",
      "\u001b[?25h"
     ]
    }
   ],
   "source": [
    "query = FuncADLQueryPHYSLITE()\n",
    "met_per_event = query.Select(lambda e: {\n",
    "        'met': e.MissingET().First().met()/1000.0\n",
    "    }\n",
    ")\n",
    "\n",
    "met_data = get_data(met_per_event,sx_f)"
   ]
  },
  {
   "cell_type": "code",
   "execution_count": 13,
   "metadata": {},
   "outputs": [
    {
     "data": {
      "image/png": "[encoded data removed]",
      "text/plain": [
       "<Figure size 640x480 with 1 Axes>"
      ]
     },
     "metadata": {},
     "output_type": "display_data"
    }
   ],
   "source": [
    "plt.hist(met_data.met, bins=100, range=(0, 100))\n",
    "plt.xlabel('Missing $E_T$ [GeV]')\n",
    "plt.ylabel('Number of events')\n",
    "plt.yscale('log')\n",
    "_ = plt.title(r'Truth Missing $E_T$ distribution for $Z\\rightarrow ee$ events')"
   ]
  },
  {
   "cell_type": "markdown",
   "metadata": {},
   "source": [
    "## Rebuilding MET\n",
    "\n",
    "Only the default Missing $E_T$ is currently supported (built using the proper core for the jet collection you've used, and jets, electrons, and muons as input to the algorithm). Different missing $E_T$ calculations are not yet simply supported. Please see this [github issue](https://github.com/gordonwatts/xaod_usage/issues/5) for a discussion. It basically comes down to - what is a sensible way to do this without making it too \"magic\". Before designing an API a number of use cases need to be collected."
   ]
  },
  {
   "cell_type": "markdown",
   "metadata": {},
   "source": [
    "## The Datamodel\n",
    "\n",
    "The data model when this documentation was last built was:"
   ]
  },
  {
   "cell_type": "code",
   "execution_count": 8,
   "metadata": {},
   "outputs": [
    {
     "name": "stdout",
     "output_type": "stream",
     "text": [
      "Help on class MissingET_v1 in module func_adl_servicex_xaodr22.xAOD.missinget_v1:\n",
      "\n",
      "class MissingET_v1(builtins.object)\n",
      " |  A class\n",
      " |  \n",
      " |  Methods defined here:\n",
      " |  \n",
      " |  clearDecorations(self) -> 'bool'\n",
      " |      A method\n",
      " |  \n",
      " |  hasNonConstStore(self) -> 'bool'\n",
      " |      A method\n",
      " |  \n",
      " |  hasStore(self) -> 'bool'\n",
      " |      A method\n",
      " |  \n",
      " |  index(self) -> 'int'\n",
      " |      A method\n",
      " |  \n",
      " |  met(self) -> 'float'\n",
      " |      A method\n",
      " |  \n",
      " |  mpx(self) -> 'float'\n",
      " |      A method\n",
      " |  \n",
      " |  mpy(self) -> 'float'\n",
      " |      A method\n",
      " |  \n",
      " |  name(self) -> 'func_adl_servicex_xaodr22.str.str'\n",
      " |      A method\n",
      " |  \n",
      " |  nameHash(self) -> 'int'\n",
      " |      A method\n",
      " |  \n",
      " |  phi(self) -> 'float'\n",
      " |      A method\n",
      " |  \n",
      " |  sumet(self) -> 'float'\n",
      " |      A method\n",
      " |  \n",
      " |  trackIndices(self) -> 'bool'\n",
      " |      A method\n",
      " |  \n",
      " |  usingPrivateStore(self) -> 'bool'\n",
      " |      A method\n",
      " |  \n",
      " |  usingStandaloneStore(self) -> 'bool'\n",
      " |      A method\n",
      " |  \n",
      " |  ----------------------------------------------------------------------\n",
      " |  Readonly properties defined here:\n",
      " |  \n",
      " |  auxdataConst\n",
      " |      A method\n",
      " |  \n",
      " |  isAvailable\n",
      " |      A method\n",
      " |  \n",
      " |  ----------------------------------------------------------------------\n",
      " |  Data descriptors defined here:\n",
      " |  \n",
      " |  __dict__\n",
      " |      dictionary for instance variables (if defined)\n",
      " |  \n",
      " |  __weakref__\n",
      " |      list of weak references to the object (if defined)\n",
      "\n"
     ]
    }
   ],
   "source": [
    "from func_adl_servicex_xaodr22.xAOD.missinget_v1 import MissingET_v1\n",
    "help(MissingET_v1)"
   ]
  },
  {
   "cell_type": "markdown",
   "metadata": {},
   "source": [
    "## Further Information\n",
    "\n",
    "* The [`xAOD::MissingET_v1` C++ header file](https://gitlab.cern.ch/atlas/athena/-/blob/21.2/Event/xAOD/xAODMissingET/xAODMissingET/versions/MissingET_v1.h) with all the inline documentation.\n",
    "* [Slides from a tutorial](https://indico.cern.ch/event/860971/contributions/3626404/attachments/1974159/3285070/met_200122.pdf) on Missing ET\n",
    "* [Recommendations for R21](https://twiki.cern.ch/twiki/bin/view/AtlasProtected/JetEtmissRecommendationsR21#MET_Recommendations) from the Jet/MissingET group's twiki page."
   ]
  }
 ],
 "metadata": {
  "kernelspec": {
   "display_name": "Python 3",
   "language": "python",
   "name": "python3"
  },
  "language_info": {
   "codemirror_mode": {
    "name": "ipython",
    "version": 3
   },
   "file_extension": ".py",
   "mimetype": "text/x-python",
   "name": "python",
   "nbconvert_exporter": "python",
   "pygments_lexer": "ipython3",
   "version": "3.9.21"
  },
  "orig_nbformat": 4
 },
 "nbformat": 4,
 "nbformat_minor": 2
}
