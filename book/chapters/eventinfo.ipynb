{
 "cells": [
  {
   "cell_type": "markdown",
   "metadata": {},
   "source": [
    "# Event Info\n",
    "```{warning}\n",
    "The examples on this page have not been updated to use r22 and ServiceX 3 yet. \n",
    "```\n",
    "The `EventInfo` object contains things like beam `xyz` and run number and event number. There is only one per event - so you do not extract it as a sequence, but as a single object - so it is different than just about every other collection."
   ]
  },
  {
   "cell_type": "code",
   "execution_count": 1,
   "metadata": {},
   "outputs": [],
   "source": [
    "import matplotlib.pyplot as plt\n",
    "from config import ds_zee as ds"
   ]
  },
  {
   "cell_type": "code",
   "execution_count": 2,
   "metadata": {},
   "outputs": [
    {
     "data": {
      "application/vnd.jupyter.widget-view+json": {
       "model_id": "46769db60f0741f7858c77f7531852f8",
       "version_major": 2,
       "version_minor": 0
      },
      "text/plain": [
       "rucio://mc16_13TeV:m...:   0%|          | 0/9000000000.0 [00:00]"
      ]
     },
     "metadata": {},
     "output_type": "display_data"
    },
    {
     "data": {
      "application/vnd.jupyter.widget-view+json": {
       "model_id": "45c58d94fc114575b4aad73edeb2e95b",
       "version_major": 2,
       "version_minor": 0
      },
      "text/plain": [
       "        rucio://mc16_13TeV:m... Downloaded:   0%|          | 0/9000000000.0 [00:00]"
      ]
     },
     "metadata": {},
     "output_type": "display_data"
    },
    {
     "data": {
      "application/vnd.jupyter.widget-view+json": {
       "model_id": "7791aa74c24041b08ce226462350de23",
       "version_major": 2,
       "version_minor": 0
      },
      "text/plain": [
       "rucio://mc16_13TeV:m...:   0%|          | 0/9000000000.0 [00:00]"
      ]
     },
     "metadata": {},
     "output_type": "display_data"
    },
    {
     "data": {
      "application/vnd.jupyter.widget-view+json": {
       "model_id": "78f669cc9385426bbb2120f4f78ee955",
       "version_major": 2,
       "version_minor": 0
      },
      "text/plain": [
       "        rucio://mc16_13TeV:m... Downloaded:   0%|          | 0/9000000000.0 [00:00]"
      ]
     },
     "metadata": {},
     "output_type": "display_data"
    }
   ],
   "source": [
    "events = (ds\n",
    "        .Select(lambda e: e.EventInfo(\"EventInfo\").eventNumber())\n",
    "        .AsAwkwardArray('evt_number')\n",
    "        .value())"
   ]
  },
  {
   "cell_type": "code",
   "execution_count": 3,
   "metadata": {},
   "outputs": [
    {
     "data": {
      "image/png": "[encoded data removed]",
      "text/plain": [
       "<Figure size 432x288 with 1 Axes>"
      ]
     },
     "metadata": {
      "needs_background": "light"
     },
     "output_type": "display_data"
    }
   ],
   "source": [
    "plt.hist(events.evt_number, bins=100)\n",
    "plt.xlabel('Event Number')\n",
    "plt.ylabel('Number of events')\n",
    "_ = plt.title(r'$Z\\rightarrow ee$ events')"
   ]
  },
  {
   "cell_type": "markdown",
   "metadata": {},
   "source": [
    "## The Datamodel\n",
    "\n",
    "A lot of the EventInfo record can be stripped out by thinning. You may well encounter missing data errors when trying to access them. The data model when this documentation was last built was as below:"
   ]
  },
  {
   "cell_type": "code",
   "execution_count": 4,
   "metadata": {},
   "outputs": [
    {
     "name": "stdout",
     "output_type": "stream",
     "text": [
      "Help on class EventInfo_v1 in module func_adl_servicex_xaodr21.xAOD.eventinfo_v1:\n",
      "\n",
      "class EventInfo_v1(builtins.object)\n",
      " |  A class\n",
      " |  \n",
      " |  Methods defined here:\n",
      " |  \n",
      " |  actualInteractionsPerCrossing(self) -> 'float'\n",
      " |      A method\n",
      " |  \n",
      " |  averageInteractionsPerCrossing(self) -> 'float'\n",
      " |      A method\n",
      " |  \n",
      " |  bcid(self) -> 'int'\n",
      " |      A method\n",
      " |  \n",
      " |  beamPosSigmaX(self) -> 'float'\n",
      " |      A method\n",
      " |  \n",
      " |  beamPosSigmaXY(self) -> 'float'\n",
      " |      A method\n",
      " |  \n",
      " |  beamPosSigmaY(self) -> 'float'\n",
      " |      A method\n",
      " |  \n",
      " |  beamPosSigmaZ(self) -> 'float'\n",
      " |      A method\n",
      " |  \n",
      " |  beamPosX(self) -> 'float'\n",
      " |      A method\n",
      " |  \n",
      " |  beamPosY(self) -> 'float'\n",
      " |      A method\n",
      " |  \n",
      " |  beamPosZ(self) -> 'float'\n",
      " |      A method\n",
      " |  \n",
      " |  beamStatus(self) -> 'int'\n",
      " |      A method\n",
      " |  \n",
      " |  beamTiltXZ(self) -> 'float'\n",
      " |      A method\n",
      " |  \n",
      " |  beamTiltYZ(self) -> 'float'\n",
      " |      A method\n",
      " |  \n",
      " |  clearDecorations(self) -> 'bool'\n",
      " |      A method\n",
      " |  \n",
      " |  detectorMask0(self) -> 'int'\n",
      " |      A method\n",
      " |  \n",
      " |  detectorMask1(self) -> 'int'\n",
      " |      A method\n",
      " |  \n",
      " |  detectorMask2(self) -> 'int'\n",
      " |      A method\n",
      " |  \n",
      " |  detectorMask3(self) -> 'int'\n",
      " |      A method\n",
      " |  \n",
      " |  eventNumber(self) -> 'int'\n",
      " |      A method\n",
      " |  \n",
      " |  eventTypeBitmask(self) -> 'int'\n",
      " |      A method\n",
      " |  \n",
      " |  extendedLevel1ID(self) -> 'int'\n",
      " |      A method\n",
      " |  \n",
      " |  hasMCEventWeights(self) -> 'bool'\n",
      " |      A method\n",
      " |  \n",
      " |  hasNonConstStore(self) -> 'bool'\n",
      " |      A method\n",
      " |  \n",
      " |  hasStore(self) -> 'bool'\n",
      " |      A method\n",
      " |  \n",
      " |  index(self) -> 'int'\n",
      " |      A method\n",
      " |  \n",
      " |  lumiBlock(self) -> 'int'\n",
      " |      A method\n",
      " |  \n",
      " |  mcChannelNumber(self) -> 'int'\n",
      " |      A method\n",
      " |  \n",
      " |  mcEventNumber(self) -> 'int'\n",
      " |      A method\n",
      " |  \n",
      " |  mcEventWeight(self, i: 'int') -> 'float'\n",
      " |      A method\n",
      " |  \n",
      " |  mcEventWeights(self) -> 'func_adl_servicex_xaodr21.vector_float_.vector_float_'\n",
      " |      A method\n",
      " |  \n",
      " |  runNumber(self) -> 'int'\n",
      " |      A method\n",
      " |  \n",
      " |  statusElement(self) -> 'int'\n",
      " |      A method\n",
      " |  \n",
      " |  streamTags(self) -> 'func_adl_servicex_xaodr21.vector_xaod_eventinfo_v1_streamtag_.vector_xAOD_EventInfo_v1_StreamTag_'\n",
      " |      A method\n",
      " |  \n",
      " |  subEvents(self) -> 'func_adl_servicex_xaodr21.vector_xaod_eventinfo_v1_subevent_.vector_xAOD_EventInfo_v1_SubEvent_'\n",
      " |      A method\n",
      " |  \n",
      " |  timeStamp(self) -> 'int'\n",
      " |      A method\n",
      " |  \n",
      " |  timeStampNSOffset(self) -> 'int'\n",
      " |      A method\n",
      " |  \n",
      " |  usingPrivateStore(self) -> 'bool'\n",
      " |      A method\n",
      " |  \n",
      " |  usingStandaloneStore(self) -> 'bool'\n",
      " |      A method\n",
      " |  \n",
      " |  ----------------------------------------------------------------------\n",
      " |  Readonly properties defined here:\n",
      " |  \n",
      " |  auxdataConst\n",
      " |      A method\n",
      " |  \n",
      " |  isAvailable\n",
      " |      A method\n",
      " |  \n",
      " |  ----------------------------------------------------------------------\n",
      " |  Data descriptors defined here:\n",
      " |  \n",
      " |  __dict__\n",
      " |      dictionary for instance variables (if defined)\n",
      " |  \n",
      " |  __weakref__\n",
      " |      list of weak references to the object (if defined)\n",
      "\n"
     ]
    }
   ],
   "source": [
    "from func_adl_servicex_xaodr21.xAOD.eventinfo_v1 import EventInfo_v1\n",
    "help(EventInfo_v1)"
   ]
  },
  {
   "cell_type": "markdown",
   "metadata": {},
   "source": [
    "## Further Information\n",
    "\n",
    "* The [`xAOD::EventInfo_v1` C++ header file](https://gitlab.cern.ch/atlas/athena/-/blob/21.2/Event/xAOD/xAODEventInfo/xAODEventInfo/versions/EventInfo_v1.h) with all the inline documentation.\n",
    "* [Slides from a tutorial](https://indico.cern.ch/event/860971/contributions/3626446/attachments/1972517/3281693/The_ATLAS_Event_Data_Model_2020.01.21..pdf) on the ATLAS Data Model"
   ]
  },
  {
   "cell_type": "markdown",
   "metadata": {},
   "source": []
  }
 ],
 "metadata": {
  "interpreter": {
   "hash": "4a6a03da167f696356f4586f5aa11d01c71f7eb41b718dba3877a6890ca8074b"
  },
  "kernelspec": {
   "display_name": "Python 3.9.6 ('xaod-usage-w68Kx7k0-py3.9')",
   "language": "python",
   "name": "python3"
  },
  "language_info": {
   "codemirror_mode": {
    "name": "ipython",
    "version": 3
   },
   "file_extension": ".py",
   "mimetype": "text/x-python",
   "name": "python",
   "nbconvert_exporter": "python",
   "pygments_lexer": "ipython3",
   "version": "3.9.6"
  },
  "orig_nbformat": 4
 },
 "nbformat": 4,
 "nbformat_minor": 2
}
