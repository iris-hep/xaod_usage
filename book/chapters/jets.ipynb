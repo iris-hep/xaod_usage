{
 "cells": [
  {
   "cell_type": "markdown",
   "metadata": {},
   "source": [
    "(ch-jets)=\n",
    "\n",
    "# The Jet Collection\n",
    "\n",
    "We'll start with the Jet collection, one of the most commonly used collections in ATLAS. Below we'll look at:\n",
    "\n",
    "* Getting jet kinematic properties like $p_T$ and $\\eta$.\n",
    "* Getting the constituents that went into building the jet.\n",
    "* Getting the _attributes_ associated with the jet.\n",
    "\n",
    "The data model used in ATLAS' xAOD is defined by the C++ objects. `func_adl` translates the python requests into C++ - so it needs to know about this data model. The `func_adl_servicex_xaodr22` package contains that information. For example, when we access a jet's $p_T$ with `j.pt()`, the `func_adl` system accesses meta-data in the `func_adl_servicex_xaodr22` to understand how to make the call, and that its return type is `double`. With few exceptions, that is how one accesses all methods on the xAOD objects."
   ]
  },
  {
   "cell_type": "markdown",
   "metadata": {},
   "source": [
    "The first thing to do is import what we need in our environment. This will be the case at the top of every chapter, but we show it for completness.\n",
    "\n",
    "* Function from config file that returns dataset dictionary\n",
    "* Various utilities for plotting and array manipulation\n",
    "* Some helpers for accessing attributes below (`cpp_float, cpp_vfloat`)"
   ]
  },
  {
   "cell_type": "code",
   "execution_count": 6,
   "metadata": {},
   "outputs": [],
   "source": [
    "from config import deliver_files\n",
    "from config import sx_f\n",
    "from func_adl_servicex_xaodr22 import FuncADLQueryPHYSLITE, cpp_float, cpp_vfloat\n",
    "\n",
    "import matplotlib.pyplot as plt\n",
    "import numpy as np\n",
    "import uproot\n",
    "import awkward as ak"
   ]
  },
  {
   "cell_type": "markdown",
   "metadata": {},
   "source": [
    "To show how to use func_adl with xaod on the jet collection we will get $ p_{T} $ data above 30GeV. To do this we must build the query using func_adl and pass it to the get_dataset function. To do this we utilize func_adl Where() function and then select the resulting data using Select() where we also scale the data to GeV. We also select $ \\eta $ and emf data for later in the tutorial."
   ]
  },
  {
   "cell_type": "code",
   "execution_count": 7,
   "metadata": {},
   "outputs": [
    {
     "data": {
      "application/vnd.jupyter.widget-view+json": {
       "model_id": "d34d4cbff9784234956734a7d5df25cf",
       "version_major": 2,
       "version_minor": 0
      },
      "text/plain": [
       "Output()"
      ]
     },
     "metadata": {},
     "output_type": "display_data"
    },
    {
     "data": {
      "text/html": [
       "<pre style=\"white-space:pre;overflow-x:auto;line-height:normal;font-family:Menlo,'DejaVu Sans Mono',consolas,'Courier New',monospace\"></pre>\n"
      ],
      "text/plain": []
     },
     "metadata": {},
     "output_type": "display_data"
    }
   ],
   "source": [
    "query = FuncADLQueryPHYSLITE()\n",
    "jets_per_event = query.Select(lambda e: e.Jets('AnalysisJets'))\n",
    "jet_info_per_event = jets_per_event.Select(\n",
    "    lambda jets: {\n",
    "        'pt': jets.Where(lambda j: (j.pt() / 1000 > 30)).Select(lambda j: j.pt() / 1000),\n",
    "        'eta': jets.Select(lambda j: j.eta()),\n",
    "        'emf': jets.Select(lambda j: j.getAttribute[cpp_float]('EMFrac'))\n",
    "        }\n",
    ")\n",
    "\n",
    "files = deliver_files(jet_info_per_event,sx_f)"
   ]
  },
  {
   "cell_type": "markdown",
   "metadata": {},
   "source": [
    "After getting the list of files that make up the dataset we need to loop over each file appending all the data into one array. To do this we get the data from each file in an Awkward array using uproot, then flatten it and append it to our data array. This data array can then be used to plot the results."
   ]
  },
  {
   "cell_type": "code",
   "execution_count": 3,
   "metadata": {},
   "outputs": [],
   "source": [
    "data = []\n",
    "for file_path in files:\n",
    "    file = uproot.open(file_path)\n",
    "    array = file['atlas_xaod_tree;1']['pt'].arrays(library=\"ak\").pt\n",
    "    data.extend(ak.flatten(array))"
   ]
  },
  {
   "cell_type": "code",
   "execution_count": 4,
   "metadata": {},
   "outputs": [
    {
     "data": {
      "image/png": "[encoded data removed]",
      "text/plain": [
       "<Figure size 640x480 with 1 Axes>"
      ]
     },
     "metadata": {},
     "output_type": "display_data"
    }
   ],
   "source": [
    "plt.hist(data, bins=100, range=(0, 100))\n",
    "plt.xlabel('Jet $p_T$ [GeV]')\n",
    "plt.ylabel('Number of jets')\n",
    "_ = plt.title('Jet $p_T$ distribution')"
   ]
  },
  {
   "cell_type": "markdown",
   "metadata": {},
   "source": [
    "## Jet Constituents\n",
    "\n",
    "Jets are composed of `TopoClusters` in ATLAS, and unfortunately, they are often skimmed away. They are not present, for example, in `DAOD_PHYS`, which is the skim being used here for most examples. To demonstrate their use we'll pull from a R21 EXOT15 skim that contains them. Since each jet has an array of topo clusters, and we are just interested in all the `TopoClusters`, we use two `SelectMany` calls to flatten both arrays."
   ]
  },
  {
   "cell_type": "code",
   "execution_count": 4,
   "metadata": {},
   "outputs": [
    {
     "data": {
      "application/vnd.jupyter.widget-view+json": {
       "model_id": "35922a10393b42cd84d137f9c048024a",
       "version_major": 2,
       "version_minor": 0
      },
      "text/plain": [
       "rucio://mc16_13TeV:m...:   0%|          | 0/9000000000.0 [00:00]"
      ]
     },
     "metadata": {},
     "output_type": "display_data"
    },
    {
     "data": {
      "application/vnd.jupyter.widget-view+json": {
       "model_id": "bf8d5c94fbfd491ab2da2b792225814f",
       "version_major": 2,
       "version_minor": 0
      },
      "text/plain": [
       "        rucio://mc16_13TeV:m... Downloaded:   0%|          | 0/9000000000.0 [00:00]"
      ]
     },
     "metadata": {},
     "output_type": "display_data"
    },
    {
     "data": {
      "application/vnd.jupyter.widget-view+json": {
       "model_id": "d1d0e059717b47018ab0acf11bbcd40d",
       "version_major": 2,
       "version_minor": 0
      },
      "text/plain": [
       "rucio://mc16_13TeV:m...:   0%|          | 0/9000000000.0 [00:00]"
      ]
     },
     "metadata": {},
     "output_type": "display_data"
    },
    {
     "data": {
      "application/vnd.jupyter.widget-view+json": {
       "model_id": "e3afe9ae56ae4317a7fe714a1447d474",
       "version_major": 2,
       "version_minor": 0
      },
      "text/plain": [
       "        rucio://mc16_13TeV:m... Downloaded:   0%|          | 0/9000000000.0 [00:00]"
      ]
     },
     "metadata": {},
     "output_type": "display_data"
    }
   ],
   "source": [
    "topo_clusters = (ds_jz2_exot15\n",
    "                    .SelectMany(lambda e: e.Jets())\n",
    "                    .SelectMany(lambda j: j.getConstituents())\n",
    "                    .Select(lambda tc: tc.pt())\n",
    "                    .AsAwkwardArray('JetClusterPt')\n",
    "                    .value()\n",
    "                )"
   ]
  },
  {
   "cell_type": "code",
   "execution_count": 5,
   "metadata": {},
   "outputs": [
    {
     "data": {
      "image/png": "[encoded data removed]",
      "text/plain": [
       "<Figure size 432x288 with 1 Axes>"
      ]
     },
     "metadata": {
      "needs_background": "light"
     },
     "output_type": "display_data"
    }
   ],
   "source": [
    "plt.hist(topo_clusters.JetClusterPt/1000.0, bins=100, range=(0, 20))\n",
    "plt.xlabel('Jet Cluster $p_T$ [GeV]')\n",
    "plt.ylabel('Number of jets')\n",
    "_ = plt.title('Jet Cluster $p_T$ distribution for jets in $Z\\\\rightarrow ee$ events')"
   ]
  },
  {
   "cell_type": "markdown",
   "metadata": {},
   "source": [
    "## Jet Moments\n",
    "\n",
    "Attributes are called _moments_ by the ATLAS Jet/ETMiss group. They are extra information that has been added into the jet object. The [Run 2 Moments Page](https://twiki.cern.ch/twiki/bin/view/AtlasProtected/Run2JetMoments) lists all the moments. To access them you'll need to know the return type explicitly, and parameterize your call to `getAttribute` appropriately.\n",
    "\n",
    "Here we grab the `EMFrac` moment, which is the EM Fraction of the jet. It is a single float for each jet. We specify the type with the `cpp_float` in the `getAttribute[cpp_float]('EMFrac')` call. This is translated into C++ that looks something like `j->getAttribute<float>(\"EMFrac\")`."
   ]
  },
  {
   "cell_type": "code",
   "execution_count": null,
   "metadata": {},
   "outputs": [],
   "source": [
    "moment_data = []\n",
    "for file_path in files:\n",
    "    file = uproot.open(file_path)\n",
    "    array = file['atlas_xaod_tree;1']['emf'].arrays(library=\"ak\").emf\n",
    "    moment_data.extend(ak.flatten(array))"
   ]
  },
  {
   "cell_type": "code",
   "execution_count": null,
   "metadata": {},
   "outputs": [
    {
     "data": {
      "image/png": "[encoded data removed]",
      "text/plain": [
       "<Figure size 640x480 with 1 Axes>"
      ]
     },
     "metadata": {},
     "output_type": "display_data"
    }
   ],
   "source": [
    "plt.hist(moment_data, bins=100, range=(0, 1.1))\n",
    "plt.xlabel('EM Fraction')\n",
    "plt.ylabel('Number of jets')\n",
    "_ = plt.title('EM Fraction of jets in JZ3 events')"
   ]
  },
  {
   "cell_type": "markdown",
   "metadata": {},
   "source": [
    "More complex objects can come back as well. For example, vectors of floats (`std::vector<float>`). Here is a sample with the sum track $p_T$ when track $p_T > 500$ MeV."
   ]
  },
  {
   "cell_type": "code",
   "execution_count": 8,
   "metadata": {},
   "outputs": [
    {
     "data": {
      "application/vnd.jupyter.widget-view+json": {
       "model_id": "b925344b584b4f0ea7766618e47a7ef0",
       "version_major": 2,
       "version_minor": 0
      },
      "text/plain": [
       "rucio://mc16_13TeV:m...:   0%|          | 0/9000000000.0 [00:00]"
      ]
     },
     "metadata": {},
     "output_type": "display_data"
    },
    {
     "data": {
      "application/vnd.jupyter.widget-view+json": {
       "model_id": "e269eae434684aae8158e5128aaf6605",
       "version_major": 2,
       "version_minor": 0
      },
      "text/plain": [
       "        rucio://mc16_13TeV:m... Downloaded:   0%|          | 0/9000000000.0 [00:00]"
      ]
     },
     "metadata": {},
     "output_type": "display_data"
    },
    {
     "data": {
      "application/vnd.jupyter.widget-view+json": {
       "model_id": "66ee92305c62400686fb178f2481bce8",
       "version_major": 2,
       "version_minor": 0
      },
      "text/plain": [
       "rucio://mc16_13TeV:m...:   0%|          | 0/9000000000.0 [00:00]"
      ]
     },
     "metadata": {},
     "output_type": "display_data"
    },
    {
     "data": {
      "application/vnd.jupyter.widget-view+json": {
       "model_id": "537e4f27896c4b209ca738139554d147",
       "version_major": 2,
       "version_minor": 0
      },
      "text/plain": [
       "        rucio://mc16_13TeV:m... Downloaded:   0%|          | 0/9000000000.0 [00:00]"
      ]
     },
     "metadata": {},
     "output_type": "display_data"
    }
   ],
   "source": [
    "sum_pt = (ds\n",
    "          .SelectMany(lambda e: e.Jets(\"AntiKt4EMPFlowJets\"))\n",
    "          .Where(lambda j: (j.pt() / 1000) > 31)\n",
    "          .SelectMany(lambda j: j.getAttribute[cpp_vfloat]('SumPtTrkPt500'))\n",
    "          .AsAwkwardArray('sum_pt')\n",
    "          .value())"
   ]
  },
  {
   "cell_type": "code",
   "execution_count": 9,
   "metadata": {},
   "outputs": [
    {
     "data": {
      "image/png": "[encoded data removed]",
      "text/plain": [
       "<Figure size 432x288 with 1 Axes>"
      ]
     },
     "metadata": {
      "needs_background": "light"
     },
     "output_type": "display_data"
    }
   ],
   "source": [
    "plt.hist(sum_pt.sum_pt/1000.0, bins=100, range=(0, 4))\n",
    "plt.xlabel('Sum track $p_T$ [GeV]')\n",
    "plt.ylabel('Number of jets')\n",
    "plt.yscale('log')\n",
    "_ = plt.title('Sum Track $p_T$ for tracks over 500 MeV in JZ3 events')"
   ]
  },
  {
   "cell_type": "markdown",
   "metadata": {},
   "source": [
    "As with everything else in the ATLAS data model, even if they are reconstructed and associated with the jet, they can be stripped out with slimming - so just because they are declared on the Run 2 Moments page, it doesn't mean they actually exist in the data file you are looking at."
   ]
  },
  {
   "cell_type": "markdown",
   "metadata": {},
   "source": [
    "This describes the basics of how to access jets in the ATLAS xAOD. The next chapter will continue discussing jets, focusing on how calibrations are handled by the `func_adl` backend."
   ]
  },
  {
   "cell_type": "markdown",
   "metadata": {},
   "source": [
    "## The Data Model\n",
    "\n",
    "The data model when this documentation was last built was:"
   ]
  },
  {
   "cell_type": "code",
   "execution_count": 10,
   "metadata": {},
   "outputs": [
    {
     "name": "stdout",
     "output_type": "stream",
     "text": [
      "Help on class Jet_v1 in module func_adl_servicex_xaodr21.xAOD.jet_v1:\n",
      "\n",
      "class Jet_v1(builtins.object)\n",
      " |  A class\n",
      " |  \n",
      " |  Methods defined here:\n",
      " |  \n",
      " |  btagging(self) -> 'func_adl_servicex_xaodr21.xAOD.btagging_v1.BTagging_v1'\n",
      " |      A method\n",
      " |  \n",
      " |  btaggingLink(self) -> 'func_adl_servicex_xaodr21.elementlink_datavector_xaod_btagging_v1__.ElementLink_DataVector_xAOD_BTagging_v1__'\n",
      " |      A method\n",
      " |  \n",
      " |  clearDecorations(self) -> 'bool'\n",
      " |      A method\n",
      " |  \n",
      " |  constituentLinks(self) -> 'func_adl_servicex_xaodr21.vector_elementlink_datavector_xaod_iparticle___.vector_ElementLink_DataVector_xAOD_IParticle___'\n",
      " |      A method\n",
      " |  \n",
      " |  e(self) -> 'float'\n",
      " |      A method\n",
      " |  \n",
      " |  eta(self) -> 'float'\n",
      " |      A method\n",
      " |  \n",
      " |  getConstituents(self) -> 'func_adl_servicex_xaodr21.xAOD.jetconstituentvector.JetConstituentVector'\n",
      " |      A method\n",
      " |  \n",
      " |  getSizeParameter(self) -> 'float'\n",
      " |      A method\n",
      " |  \n",
      " |  hasNonConstStore(self) -> 'bool'\n",
      " |      A method\n",
      " |  \n",
      " |  hasStore(self) -> 'bool'\n",
      " |      A method\n",
      " |  \n",
      " |  index(self) -> 'int'\n",
      " |      A method\n",
      " |  \n",
      " |  m(self) -> 'float'\n",
      " |      A method\n",
      " |  \n",
      " |  numConstituents(self) -> 'int'\n",
      " |      A method\n",
      " |  \n",
      " |  p4(self) -> 'func_adl_servicex_xaodr21.tlorentzvector.TLorentzVector'\n",
      " |      A method\n",
      " |  \n",
      " |  phi(self) -> 'float'\n",
      " |      A method\n",
      " |  \n",
      " |  pt(self) -> 'float'\n",
      " |      A method\n",
      " |  \n",
      " |  px(self) -> 'float'\n",
      " |      A method\n",
      " |  \n",
      " |  py(self) -> 'float'\n",
      " |      A method\n",
      " |  \n",
      " |  pz(self) -> 'float'\n",
      " |      A method\n",
      " |  \n",
      " |  rapidity(self) -> 'float'\n",
      " |      A method\n",
      " |  \n",
      " |  rawConstituent(self, i: 'int') -> 'func_adl_servicex_xaodr21.xAOD.iparticle.IParticle'\n",
      " |      A method\n",
      " |  \n",
      " |  usingPrivateStore(self) -> 'bool'\n",
      " |      A method\n",
      " |  \n",
      " |  usingStandaloneStore(self) -> 'bool'\n",
      " |      A method\n",
      " |  \n",
      " |  ----------------------------------------------------------------------\n",
      " |  Readonly properties defined here:\n",
      " |  \n",
      " |  auxdataConst\n",
      " |      A method\n",
      " |  \n",
      " |  getAttribute\n",
      " |      A method\n",
      " |  \n",
      " |  isAvailable\n",
      " |      A method\n",
      " |  \n",
      " |  ----------------------------------------------------------------------\n",
      " |  Data descriptors defined here:\n",
      " |  \n",
      " |  __dict__\n",
      " |      dictionary for instance variables (if defined)\n",
      " |  \n",
      " |  __weakref__\n",
      " |      list of weak references to the object (if defined)\n",
      "\n"
     ]
    }
   ],
   "source": [
    "from func_adl_servicex_xaodr21.xAOD.jet_v1 import Jet_v1\n",
    "help(Jet_v1)"
   ]
  },
  {
   "cell_type": "code",
   "execution_count": 11,
   "metadata": {},
   "outputs": [
    {
     "name": "stdout",
     "output_type": "stream",
     "text": [
      "Help on class JetConstituent in module func_adl_servicex_xaodr21.xAOD.jetconstituent:\n",
      "\n",
      "class JetConstituent(builtins.object)\n",
      " |  A class\n",
      " |  \n",
      " |  Methods defined here:\n",
      " |  \n",
      " |  e(self) -> 'float'\n",
      " |      A method\n",
      " |  \n",
      " |  eta(self) -> 'float'\n",
      " |      A method\n",
      " |  \n",
      " |  isSpacelike(self) -> 'bool'\n",
      " |      A method\n",
      " |  \n",
      " |  isTimelike(self) -> 'bool'\n",
      " |      A method\n",
      " |  \n",
      " |  m(self) -> 'float'\n",
      " |      A method\n",
      " |  \n",
      " |  phi(self) -> 'float'\n",
      " |      A method\n",
      " |  \n",
      " |  pt(self) -> 'float'\n",
      " |      A method\n",
      " |  \n",
      " |  rapidity(self) -> 'float'\n",
      " |      A method\n",
      " |  \n",
      " |  rawConstituent(self) -> 'func_adl_servicex_xaodr21.xAOD.iparticle.IParticle'\n",
      " |      A method\n",
      " |  \n",
      " |  ----------------------------------------------------------------------\n",
      " |  Data descriptors defined here:\n",
      " |  \n",
      " |  __dict__\n",
      " |      dictionary for instance variables (if defined)\n",
      " |  \n",
      " |  __weakref__\n",
      " |      list of weak references to the object (if defined)\n",
      "\n"
     ]
    }
   ],
   "source": [
    "from func_adl_servicex_xaodr21.xAOD.jetconstituent import JetConstituent\n",
    "help(JetConstituent)"
   ]
  },
  {
   "cell_type": "markdown",
   "metadata": {},
   "source": [
    "## Further Information\n",
    "\n",
    "* The [`xAOD::Jet_v1` C++ header file](https://gitlab.cern.ch/atlas/athena/-/blob/21.2/Event/xAOD/xAODJet/xAODJet/versions/Jet_v1.h) with all the inline documentation.\n",
    "* The [`xAOD::JetConstituent` C++ header File](https://gitlab.cern.ch/atlas/athena/-/blob/21.2/Event/xAOD/xAODJet/xAODJet/JetConstituentVector.h) with all the inline documentation.\n",
    "* The [Jet ET-Miss Recommendation Pages for R21](https://twiki.cern.ch/twiki/bin/view/AtlasProtected/JetEtmissRecommendationsR21) on the ATLAS TWiki\n",
    "* The [Run 2 Moments Page](https://twiki.cern.ch/twiki/bin/view/AtlasProtected/Run2JetMoments)"
   ]
  }
 ],
 "metadata": {
  "kernelspec": {
   "display_name": "Python 3",
   "language": "python",
   "name": "python3"
  },
  "language_info": {
   "codemirror_mode": {
    "name": "ipython",
    "version": 3
   },
   "file_extension": ".py",
   "mimetype": "text/x-python",
   "name": "python",
   "nbconvert_exporter": "python",
   "pygments_lexer": "ipython3",
   "version": "3.9.19"
  },
  "orig_nbformat": 4
 },
 "nbformat": 4,
 "nbformat_minor": 2
}
